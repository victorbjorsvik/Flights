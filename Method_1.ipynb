{
 "cells": [
  {
   "cell_type": "markdown",
   "id": "e0e382e7-f3c2-4215-b24b-40cfc37f6303",
   "metadata": {
    "tags": []
   },
   "source": [
    "Define a new method called aircrafts that receives no arguments and prints only the list of aircraft models (Names)i�r�c�r�a�f�."
   ]
  },
  {
   "cell_type": "code",
   "execution_count": 2,
   "id": "d62d66cc-9dda-44d8-8108-644057046000",
   "metadata": {},
   "outputs": [],
   "source": [
    "import pandas as pd\n",
    "import os\n",
    "import matplotlib.pyplot as plt\n"
   ]
  },
  {
   "cell_type": "code",
   "execution_count": 33,
   "id": "c217aecc",
   "metadata": {},
   "outputs": [],
   "source": [
    "import pandas as pd\n",
    "airlines_df = pd.read_csv('airlines.csv', on_bad_lines='skip')\n",
    "airplanes_df = pd.read_csv('airplanes.csv', on_bad_lines='skip')\n",
    "airports_df = pd.read_csv('airports.csv', on_bad_lines='skip')\n",
    "routes_df =  pd.read_csv('routes.csv', on_bad_lines='skip')"
   ]
  },
  {
   "cell_type": "code",
   "execution_count": 34,
   "id": "2701e0a0",
   "metadata": {},
   "outputs": [
    {
     "data": {
      "text/html": [
       "<div>\n",
       "<style scoped>\n",
       "    .dataframe tbody tr th:only-of-type {\n",
       "        vertical-align: middle;\n",
       "    }\n",
       "\n",
       "    .dataframe tbody tr th {\n",
       "        vertical-align: top;\n",
       "    }\n",
       "\n",
       "    .dataframe thead th {\n",
       "        text-align: right;\n",
       "    }\n",
       "</style>\n",
       "<table border=\"1\" class=\"dataframe\">\n",
       "  <thead>\n",
       "    <tr style=\"text-align: right;\">\n",
       "      <th></th>\n",
       "      <th>index</th>\n",
       "      <th>Name</th>\n",
       "      <th>IATA code</th>\n",
       "      <th>ICAO code</th>\n",
       "    </tr>\n",
       "  </thead>\n",
       "  <tbody>\n",
       "    <tr>\n",
       "      <th>0</th>\n",
       "      <td>0</td>\n",
       "      <td>Aerospatiale (Nord) 262</td>\n",
       "      <td>ND2</td>\n",
       "      <td>N262</td>\n",
       "    </tr>\n",
       "    <tr>\n",
       "      <th>1</th>\n",
       "      <td>1</td>\n",
       "      <td>Aerospatiale (Sud Aviation) Se.210 Caravelle</td>\n",
       "      <td>CRV</td>\n",
       "      <td>S210</td>\n",
       "    </tr>\n",
       "    <tr>\n",
       "      <th>2</th>\n",
       "      <td>2</td>\n",
       "      <td>Aerospatiale SN.601 Corvette</td>\n",
       "      <td>NDC</td>\n",
       "      <td>S601</td>\n",
       "    </tr>\n",
       "    <tr>\n",
       "      <th>3</th>\n",
       "      <td>3</td>\n",
       "      <td>Aerospatiale/Alenia ATR 42-300</td>\n",
       "      <td>AT4</td>\n",
       "      <td>AT43</td>\n",
       "    </tr>\n",
       "    <tr>\n",
       "      <th>4</th>\n",
       "      <td>4</td>\n",
       "      <td>Aerospatiale/Alenia ATR 42-500</td>\n",
       "      <td>AT5</td>\n",
       "      <td>AT45</td>\n",
       "    </tr>\n",
       "    <tr>\n",
       "      <th>...</th>\n",
       "      <td>...</td>\n",
       "      <td>...</td>\n",
       "      <td>...</td>\n",
       "      <td>...</td>\n",
       "    </tr>\n",
       "    <tr>\n",
       "      <th>241</th>\n",
       "      <td>241</td>\n",
       "      <td>Tupolev Tu-144</td>\n",
       "      <td>\\N</td>\n",
       "      <td>T144</td>\n",
       "    </tr>\n",
       "    <tr>\n",
       "      <th>242</th>\n",
       "      <td>242</td>\n",
       "      <td>Tupolev Tu-154</td>\n",
       "      <td>TU5</td>\n",
       "      <td>T154</td>\n",
       "    </tr>\n",
       "    <tr>\n",
       "      <th>243</th>\n",
       "      <td>243</td>\n",
       "      <td>Tupolev Tu-204</td>\n",
       "      <td>T20</td>\n",
       "      <td>T204</td>\n",
       "    </tr>\n",
       "    <tr>\n",
       "      <th>244</th>\n",
       "      <td>244</td>\n",
       "      <td>Yakovlev Yak-40</td>\n",
       "      <td>YK4</td>\n",
       "      <td>YK40</td>\n",
       "    </tr>\n",
       "    <tr>\n",
       "      <th>245</th>\n",
       "      <td>245</td>\n",
       "      <td>Yakovlev Yak-42</td>\n",
       "      <td>YK2</td>\n",
       "      <td>YK42</td>\n",
       "    </tr>\n",
       "  </tbody>\n",
       "</table>\n",
       "<p>246 rows × 4 columns</p>\n",
       "</div>"
      ],
      "text/plain": [
       "     index                                          Name IATA code ICAO code\n",
       "0        0                       Aerospatiale (Nord) 262       ND2      N262\n",
       "1        1  Aerospatiale (Sud Aviation) Se.210 Caravelle       CRV      S210\n",
       "2        2                  Aerospatiale SN.601 Corvette       NDC      S601\n",
       "3        3                Aerospatiale/Alenia ATR 42-300       AT4      AT43\n",
       "4        4                Aerospatiale/Alenia ATR 42-500       AT5      AT45\n",
       "..     ...                                           ...       ...       ...\n",
       "241    241                                Tupolev Tu-144        \\N      T144\n",
       "242    242                                Tupolev Tu-154       TU5      T154\n",
       "243    243                                Tupolev Tu-204       T20      T204\n",
       "244    244                               Yakovlev Yak-40       YK4      YK40\n",
       "245    245                               Yakovlev Yak-42       YK2      YK42\n",
       "\n",
       "[246 rows x 4 columns]"
      ]
     },
     "execution_count": 34,
     "metadata": {},
     "output_type": "execute_result"
    }
   ],
   "source": [
    "airplanes_df"
   ]
  },
  {
   "cell_type": "code",
   "execution_count": 35,
   "id": "da3f98ba",
   "metadata": {},
   "outputs": [],
   "source": [
    "airplanes_df = airplanes_df.drop('index', axis=1)\n"
   ]
  },
  {
   "cell_type": "code",
   "execution_count": 38,
   "id": "2c79008e",
   "metadata": {},
   "outputs": [
    {
     "name": "stdout",
     "output_type": "stream",
     "text": [
      "['Beechcraft Baron / 55 Baron'\n",
      " 'British Aerospace 125 series / Hawker/Raytheon 700/800/800XP/850/900'\n",
      " 'British Aerospace 125-1000 series / Hawker/Raytheon 1000'\n",
      " 'De Havilland Canada DHC-8-100 Dash 8 / 8Q'\n",
      " 'De Havilland Canada DHC-8-200 Dash 8 / 8Q'\n",
      " 'Gulfstream/Rockwell (Aero) Commander'\n",
      " 'Gulfstream/Rockwell (Aero) Turbo Commander'\n",
      " 'Lockheed L-182 / 282 / 382 (L-100) Hercules'\n",
      " 'Pilatus Britten-Norman BN-2A/B Islander' 'Saab SF340A/B']\n"
     ]
    }
   ],
   "source": [
    "rows_with_slash = airplanes_df[airplanes_df['Name'].str.contains('/')]\n",
    "wrong_names = rows_with_slash['Name'].unique()\n",
    "\n",
    "new_list = wrong_names[5:]\n",
    "print(new_list)\n"
   ]
  },
  {
   "cell_type": "code",
   "execution_count": 50,
   "id": "ebbf87b5",
   "metadata": {},
   "outputs": [
    {
     "name": "stdout",
     "output_type": "stream",
     "text": [
      "['Pilatus Britten-Norman BN-2A Islander', 'Aerospatiale (Sud Aviation) Se.210 Caravelle', 'Aerospatiale SN.601 Corvette', 'Aerospatiale/Alenia ATR 42-300', 'Aerospatiale/Alenia ATR 42-500', 'Aerospatiale/Alenia ATR 42-600', 'Aerospatiale/Alenia ATR 72', 'Airbus A300', 'Airbus A300-600', 'Airbus A300-600ST Super Transporter / Beluga', 'Airbus A310', 'Airbus A318', 'Airbus A319', 'Airbus A319neo', 'Airbus A320', 'Airbus A320neo', 'Airbus A321', 'Airbus A321neo', 'Airbus A330', 'Airbus A330-200', 'Airbus A330-300', 'Airbus A330-700 Beluga XL', 'Airbus A330-800neo', 'Airbus A330-900neo', 'Airbus A340', 'Airbus A340-200', 'Airbus A340-300', 'Airbus A340-500', 'Airbus A340-600', 'Airbus A350', 'Airbus A350-1000', 'Airbus A350-900', 'Airbus A380', 'Airbus A380-800', 'Antonov AN-12', 'Antonov AN-124 Ruslan', 'Antonov AN-140', 'Antonov An-148', 'Antonov An-158', 'Antonov An-225 Mriya', 'Antonov AN-24', 'Antonov AN-26', 'Antonov AN-28', 'Antonov AN-30', 'Antonov AN-32', 'Antonov AN-72', 'Avro RJ100', 'Avro RJ70', 'Avro RJ85', 'BAe 146', 'BAe 146-100', 'BAe 146-200', 'BAe 146-300', 'Beechcraft 1900', 'Beechcraft Baron', 'Beechcraft Baron / 55 Baron', 'Bell 212', 'Boeing 707', 'Boeing 717', 'Boeing 720B', 'Boeing 727', 'Boeing 727-100', 'Boeing 727-200', 'Boeing 737', 'Boeing 737 MAX 10', 'Boeing 737 MAX 7', 'Boeing 737 MAX 8', 'Boeing 737 MAX 9', 'Boeing 737-200', 'Boeing 737-300', 'Boeing 737-400', 'Boeing 737-500', 'Boeing 737-600', 'Boeing 737-700', 'Boeing 737-800', 'Boeing 737-900', 'Boeing 747', 'Boeing 747 LCF Dreamlifter', 'Boeing 747-100', 'Boeing 747-200', 'Boeing 747-300', 'Boeing 747-400', 'Boeing 747-400D', 'Boeing 747-8', 'Boeing 747SP', 'Boeing 747SR', 'Boeing 757', 'Boeing 757-200', 'Boeing 757-300', 'Boeing 767', 'Boeing 767-200', 'Boeing 767-300', 'Boeing 767-400', 'Boeing 777', 'Boeing 777-200', 'Boeing 777-200LR', 'Boeing 777-300', 'Boeing 777-300ER', 'Boeing 777-8', 'Boeing 777-9', 'Boeing 787', 'Boeing 787-10', 'Boeing 787-8', 'Boeing 787-9', 'Bombardier 415', 'Bombardier BD-100 Challenger 300', 'Bombardier CS100', 'Bombardier CS300', 'Bombardier Global Express', 'British Aerospace (BAC) One Eleven', 'British Aerospace 125 series / Hawker/Raytheon 700/800/800XP/850/900', 'British Aerospace 125-1000 series / Hawker/Raytheon 1000', 'British Aerospace ATP', 'British Aerospace Jetstream 31', 'British Aerospace Jetstream 32', 'British Aerospace Jetstream 41', 'Canadair Challenger', 'Canadair CL-44', 'Canadair Regional Jet 100', 'Canadair Regional Jet 1000', 'Canadair Regional Jet 200', 'Canadair Regional Jet 700', 'Canadair Regional Jet 900', 'Cessna 152', 'Cessna 172', 'Cessna 182 Skylane', 'Cessna 208 Caravan', 'Cessna 210 Centurion', 'Cessna Citation CJ3', 'Cessna Citation CJ4', 'Cessna Citation Excel', 'Cessna Citation I', 'Cessna Citation II', 'Cessna Citation Mustang', 'Cessna Citation Sovereign', 'Cessna Citation X', 'COMAC C-919', 'Concorde', 'Dassault Falcon 2000', 'Dassault Falcon 50', 'Dassault Falcon 7X', 'Dassault Falcon 900', 'De Havilland Canada DHC-2 Beaver', 'De Havilland Canada DHC-2 Turbo-Beaver', 'De Havilland Canada DHC-3 Otter', 'De Havilland Canada DHC-4 Caribou', 'De Havilland Canada DHC-6 Twin Otter', 'De Havilland Canada DHC-7 Dash 7', 'De Havilland Canada DHC-8-100 Dash 8 / 8Q', 'De Havilland Canada DHC-8-200 Dash 8 / 8Q', 'De Havilland Canada DHC-8-300 Dash 8', 'De Havilland Canada DHC-8-400 Dash 8Q', 'De Havilland DH.104 Dove', 'De Havilland DH.114 Heron', 'Douglas DC-10', 'Douglas DC-3', 'Douglas DC-6', 'Douglas DC-8-50', 'Douglas DC-8-62', 'Douglas DC-8-72', 'Douglas DC-9-10', 'Douglas DC-9-20', 'Douglas DC-9-30', 'Douglas DC-9-40', 'Douglas DC-9-50', 'Embraer 170', 'Embraer 175', 'Embraer 175 (long wing)', 'Embraer 175 (short wing)', 'Embraer 190', 'Embraer 195', 'Embraer E190-E2', 'Embraer E195-E2', 'Embraer EMB 110 Bandeirante', 'Embraer EMB 120 Brasilia', 'Embraer Legacy 450', 'Embraer Legacy 600', 'Embraer Phenom 100', 'Embraer Phenom 300', 'Embraer RJ135', 'Embraer RJ140', 'Embraer RJ145', 'Fairchild Dornier 328JET', 'Fairchild Dornier Do.228', 'Fairchild Dornier Do.328', 'Fokker 100', 'Fokker 50', 'Fokker 70', 'Fokker F27 Friendship', 'Fokker F28 Fellowship', 'Gulfstream Aerospace G-159 Gulfstream I', 'Gulfstream G280', 'Gulfstream G650', 'Gulfstream IV', 'Gulfstream V', 'Gulfstream/Rockwell (Aero) Commander', 'Gulfstream/Rockwell (Aero) Turbo Commander', 'Harbin Yunshuji Y12', 'Hawker Siddeley HS 748', 'Ilyushin IL114', 'Ilyushin IL18', 'Ilyushin IL62', 'Ilyushin IL76', 'Ilyushin IL86', 'Ilyushin IL96', 'Learjet 35', 'Learjet 60', 'Lockheed L-1011 Tristar', 'Lockheed L-1049 Super Constellation', 'Lockheed L-182 / 282 / 382 (L-100) Hercules', 'Lockheed L-188 Electra', 'McDonnell Douglas MD-11', 'McDonnell Douglas MD-81', 'McDonnell Douglas MD-82', 'McDonnell Douglas MD-83', 'McDonnell Douglas MD-87', 'McDonnell Douglas MD-88', 'McDonnell Douglas MD-90', 'NAMC YS-11', 'Partenavia P.68', 'Pilatus Britten-Norman BN-2A Mk III Trislander', 'Pilatus Britten-Norman BN-2A/B Islander', 'Pilatus PC-12', 'Pilatus PC-6 Turbo Porter', 'Piper PA-28\\xa0(above 200\\xa0hp)', 'Piper PA-28\\xa0(up to 180\\xa0hp)', 'Piper PA-31 Navajo', 'Piper PA-44 Seminole', 'Piper PA-46', 'Saab 2000', 'Saab SF340A/B', 'Shorts SC-5 Belfast', 'Shorts SC-7 Skyvan', 'Shorts SD.330', 'Shorts SD.360', 'Sikorsky S-58T', 'Sikorsky S-61', 'Sikorsky S-76', 'Sikorsky S-92', 'Sukhoi Superjet 100-95', 'Tupolev Tu-134', 'Tupolev Tu-144', 'Tupolev Tu-154', 'Tupolev Tu-204', 'Yakovlev Yak-40', 'Yakovlev Yak-42', 'British Aerospace 125 Hawker 800', 'British Aerospace 125 Hawker 800XP', 'British Aerospace 125 Hawker 850', 'British Aerospace 125 Hawker 900', 'British Aerospace 125 Hawker 1000', 'De Havilland Canada DHC-8-100 Dash 8Q', 'De Havilland Canada DHC-8-200 Dash 8', 'De Havilland Canada DHC-8-200 Dash 8Q', 'Lockheed L-282', 'Lockheed L-382 / L-100 Hercules', 'Saab SF340B', 'Pilatus Britten-Norman BN-2B Islander']\n"
     ]
    }
   ],
   "source": [
    "def aircrafts():\n",
    "\n",
    "    list_of_models = airplanes_df['Name'].unique().tolist()\n",
    "\n",
    "    list_of_models[list_of_models == \"Beechcraft Baron / 55 Baron\"] = \"Beechcraft Baron 55\"\n",
    "    list_of_models[list_of_models ==  'Gulfstream/Rockwell (Aero) Commander'] = \"Gulfstream Commander\"\n",
    "    list_of_models[list_of_models ==  'Gulfstream/Rockwell (Aero) Commander'] = \"Gulfstream/Rockwell (Aero) Turbo Commander\"\n",
    "\n",
    "    list_of_models[list_of_models ==  'British Aerospace 125 series / Hawker/Raytheon 700/800/800XP/850/900'] = \"British Aerospace 125 Hawker 700\"\n",
    "    ba_models = ['British Aerospace 125 Hawker 800',\n",
    "                'British Aerospace 125 Hawker 800XP',\n",
    "                'British Aerospace 125 Hawker 850',\n",
    "                'British Aerospace 125 Hawker 900',\n",
    "                'British Aerospace 125 Hawker 1000']\n",
    "    list_of_models.extend(ba_models)\n",
    "\n",
    "\n",
    "    list_of_models[list_of_models ==  'De Havilland Canada DHC-8-100 Dash 8 / 8Q'] = \"De Havilland Canada DHC-8-100 Dash 8\"\n",
    "    dash_models = ['De Havilland Canada DHC-8-100 Dash 8Q',\n",
    "                'De Havilland Canada DHC-8-200 Dash 8',\n",
    "                'De Havilland Canada DHC-8-200 Dash 8Q']\n",
    "    list_of_models.extend(dash_models)\n",
    "\n",
    "\n",
    "    list_of_models[list_of_models ==  'Lockheed L-182 / 282 / 382 (L-100) Hercules'] = \"Lockheed L-182\"\n",
    "    lockheed = ['Lockheed L-282',\n",
    "                'Lockheed L-382 / L-100 Hercules']\n",
    "    list_of_models.extend(lockheed)\n",
    "\n",
    "    list_of_models[list_of_models ==  'Saab SF340A/B'] = \"Saab SF340A\"\n",
    "    saab = ['Saab SF340B']  \n",
    "    list_of_models.extend(saab)\n",
    "\n",
    "    list_of_models[list_of_models ==  'Pilatus Britten-Norman BN-2A/B Islander'] = \"Pilatus Britten-Norman BN-2A Islander\"\n",
    "    pilatus = ['Pilatus Britten-Norman BN-2B Islander']\n",
    "    list_of_models.extend(pilatus)\n",
    "    print(list_of_models)\n",
    "\n",
    "aircrafts()"
   ]
  }
 ],
 "metadata": {
  "kernelspec": {
   "display_name": "Python 3 (ipykernel)",
   "language": "python",
   "name": "python3"
  },
  "language_info": {
   "codemirror_mode": {
    "name": "ipython",
    "version": 3
   },
   "file_extension": ".py",
   "mimetype": "text/x-python",
   "name": "python",
   "nbconvert_exporter": "python",
   "pygments_lexer": "ipython3",
   "version": "3.11.7"
  }
 },
 "nbformat": 4,
 "nbformat_minor": 5
}
