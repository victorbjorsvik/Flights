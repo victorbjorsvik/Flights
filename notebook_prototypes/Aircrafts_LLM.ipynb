{
 "cells": [
  {
   "cell_type": "code",
   "execution_count": 30,
   "metadata": {},
   "outputs": [],
   "source": [
    "import os\n",
    "import pandas as pd\n",
    "import requests\n",
    "from zipfile import ZipFile\n",
    "from typing import List, Dict, Union\n",
    "from pydantic import BaseModel\n",
    "import matplotlib.pyplot as plt\n",
    "import cartopy.crs as ccrs\n",
    "import cartopy.feature as cfeature\n",
    "from langchain_openai import OpenAI, ChatOpenAI\n",
    "import langchain\n",
    "from IPython.display import Markdown, display\n",
    "import seaborn as sns\n"
   ]
  },
  {
   "cell_type": "code",
   "execution_count": 46,
   "metadata": {},
   "outputs": [],
   "source": [
    "# We are going to use a model from the OpenAI family\n",
    "from langchain_openai import ChatOpenAI\n",
    "from langchain_openai import OpenAI"
   ]
  },
  {
   "cell_type": "code",
   "execution_count": 47,
   "metadata": {},
   "outputs": [
    {
     "data": {
      "text/plain": [
       "'0.1.12'"
      ]
     },
     "execution_count": 47,
     "metadata": {},
     "output_type": "execute_result"
    }
   ],
   "source": [
    "import langchain\n",
    "langchain.__version__"
   ]
  },
  {
   "cell_type": "markdown",
   "metadata": {},
   "source": [
    "Now we wanna setup the LLM model for finding specifications for our aircrafts and print it in a markdwon table\n"
   ]
  },
  {
   "cell_type": "code",
   "execution_count": 49,
   "metadata": {},
   "outputs": [],
   "source": [
    " # Create an instance of the ChatOpenAI class\n",
    "llm = ChatOpenAI(temperature=0.1) "
   ]
  },
  {
   "cell_type": "code",
   "execution_count": 51,
   "metadata": {},
   "outputs": [
    {
     "data": {
      "text/plain": [
       "'gpt-3.5-turbo'"
      ]
     },
     "execution_count": 51,
     "metadata": {},
     "output_type": "execute_result"
    }
   ],
   "source": [
    "llm.model_name"
   ]
  },
  {
   "cell_type": "markdown",
   "metadata": {},
   "source": [
    "Firstly we define the **aircrafts_info** as new method:\n",
    "\n",
    "- that receives a string called aircraft_name. \n",
    "- then the method use an LLM to print out a table of specifications about the aircraft \n",
    "- If the string is NOT in the list of aircrafts in the data, it should return an exception \n",
    "- then we print it in a markdwon \n",
    "\n",
    "Then present a way to guide the user into how they could choose a correct aircraft name."
   ]
  },
  {
   "cell_type": "code",
   "execution_count": 76,
   "metadata": {},
   "outputs": [],
   "source": [
    "from ast import literal_eval\n",
    "\n"
   ]
  },
  {
   "cell_type": "code",
   "execution_count": 78,
   "metadata": {},
   "outputs": [],
   "source": [
    "# lets define a class which takes the aircraft name and returns the information of the aircraft\n",
    "def aircraft_info(aircraft_name:str):\n",
    "    \"\"\"\n",
    "    This method returns the information of a specific aircraft\n",
    "    \"\"\"\n",
    "    aircraft_info = aircraft_name\n",
    "\n",
    "    llm = ChatOpenAI(temperature=0.1)    \n",
    "\n",
    "    result = llm.invoke(f\"\"\"Please give me the following facts about this aircraft, PLEASE RETURN IT AS A PYTHON DICTIONARY WITHOUT NEWLINES. \n",
    "                        I REPEAT - DO NOT INCLUDE \\\\n in the dictionary. I want to read it as a pandas dataframe later on: {aircraft_info}\n",
    "                            Aircraft Model: The model of the aircraft.\n",
    "                            Manufacturer: The company that manufactured the aircraft.\n",
    "                            Max Speed: The maximum speed of the aircraft.\n",
    "                            Range: The maximum distance the aircraft can fly without refueling.\n",
    "                            Passengers: The maximum number of passengers the aircraft can carry.\n",
    "                            Crew: The number of crew members required to operate the aircraft.\n",
    "                            First Flight: The date of the aircraft's first flight.\n",
    "                            Production Status: Whether the aircraft is still in production.\n",
    "                            Variants: Different versions of the aircraft.\n",
    "                            Role: The primary role of the aircraft (e.g., commercial, military, cargo, etc.).\"\"\")\n",
    "    \n",
    "    result2 = literal_eval(result.content)\n",
    "    df = pd.DataFrame([result2])\n",
    "\n",
    "    return df"
   ]
  },
  {
   "cell_type": "code",
   "execution_count": 99,
   "metadata": {},
   "outputs": [
    {
     "data": {
      "text/markdown": [
       "| Aircrafts   |\n",
       "|:------------|\n",
       "| Boeing 747  |\n",
       "| Airbus A320 |\n",
       "| Cessna 172  |"
      ],
      "text/plain": [
       "<IPython.core.display.Markdown object>"
      ]
     },
     "metadata": {},
     "output_type": "display_data"
    }
   ],
   "source": [
    "import pandas as pd\n",
    "from IPython.display import Markdown\n",
    "\n",
    "def available_aircrafts():\n",
    "    \"\"\"\n",
    "    This function returns a list of all available aircrafts\n",
    "    \"\"\"\n",
    "    # List of available aircrafts\n",
    "    available_aircrafts = [\"Boeing 747\", \"Airbus A320\", \"Cessna 172\"]  # Update this list based on your data\n",
    "\n",
    "    return available_aircrafts\n",
    "\n",
    "# Create a DataFrame from the list of available aircrafts\n",
    "df = pd.DataFrame(available_aircrafts(), columns=[\"Aircrafts\"])\n",
    "\n",
    "\n",
    "# Convert the DataFrame to Markdown\n",
    "markdown_df = df.to_markdown(index=False)\n",
    "\n",
    "# Display the Markdown\n",
    "display(Markdown(markdown_df))"
   ]
  },
  {
   "cell_type": "markdown",
   "metadata": {},
   "source": [
    "### Copy and paste the aircraft name from the list of available aircrafts and insert it to the aircraft_info function to get the specifications of the Arcraft"
   ]
  },
  {
   "cell_type": "code",
   "execution_count": 91,
   "metadata": {},
   "outputs": [
    {
     "data": {
      "text/html": [
       "<div>\n",
       "<style scoped>\n",
       "    .dataframe tbody tr th:only-of-type {\n",
       "        vertical-align: middle;\n",
       "    }\n",
       "\n",
       "    .dataframe tbody tr th {\n",
       "        vertical-align: top;\n",
       "    }\n",
       "\n",
       "    .dataframe thead th {\n",
       "        text-align: right;\n",
       "    }\n",
       "</style>\n",
       "<table border=\"1\" class=\"dataframe\">\n",
       "  <thead>\n",
       "    <tr style=\"text-align: right;\">\n",
       "      <th></th>\n",
       "      <th>Aircraft Model</th>\n",
       "      <th>Manufacturer</th>\n",
       "      <th>Max Speed</th>\n",
       "      <th>Range</th>\n",
       "      <th>Passengers</th>\n",
       "      <th>Crew</th>\n",
       "      <th>First Flight</th>\n",
       "      <th>Production Status</th>\n",
       "      <th>Variants</th>\n",
       "      <th>Role</th>\n",
       "    </tr>\n",
       "  </thead>\n",
       "  <tbody>\n",
       "    <tr>\n",
       "      <th>0</th>\n",
       "      <td>Cessna 172</td>\n",
       "      <td>Cessna Aircraft Company</td>\n",
       "      <td>150 knots</td>\n",
       "      <td>730 nautical miles</td>\n",
       "      <td>4</td>\n",
       "      <td>1</td>\n",
       "      <td>1955</td>\n",
       "      <td>In production</td>\n",
       "      <td>[Cessna 172 Skyhawk, Cessna 172 Cutlass, Cessn...</td>\n",
       "      <td>General aviation</td>\n",
       "    </tr>\n",
       "  </tbody>\n",
       "</table>\n",
       "</div>"
      ],
      "text/plain": [
       "  Aircraft Model             Manufacturer  Max Speed               Range  \\\n",
       "0     Cessna 172  Cessna Aircraft Company  150 knots  730 nautical miles   \n",
       "\n",
       "   Passengers  Crew First Flight Production Status  \\\n",
       "0           4     1         1955     In production   \n",
       "\n",
       "                                            Variants              Role  \n",
       "0  [Cessna 172 Skyhawk, Cessna 172 Cutlass, Cessn...  General aviation  "
      ]
     },
     "execution_count": 91,
     "metadata": {},
     "output_type": "execute_result"
    }
   ],
   "source": [
    "# copy and paste the aircraft name from the list of available aircrafts\n",
    "aircraft_info(\"Cessna 172\")\n"
   ]
  },
  {
   "cell_type": "code",
   "execution_count": null,
   "metadata": {},
   "outputs": [],
   "source": []
  }
 ],
 "metadata": {
  "kernelspec": {
   "display_name": "adpro",
   "language": "python",
   "name": "python3"
  },
  "language_info": {
   "codemirror_mode": {
    "name": "ipython",
    "version": 3
   },
   "file_extension": ".py",
   "mimetype": "text/x-python",
   "name": "python",
   "nbconvert_exporter": "python",
   "pygments_lexer": "ipython3",
   "version": "3.11.7"
  }
 },
 "nbformat": 4,
 "nbformat_minor": 2
}
