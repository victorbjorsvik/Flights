{
 "cells": [
  {
   "cell_type": "markdown",
   "metadata": {},
   "source": [
    "# DEMO NOTEBOOK FOR AIRPORT INFO"
   ]
  },
  {
   "cell_type": "code",
   "execution_count": 47,
   "metadata": {},
   "outputs": [],
   "source": [
    "#!conda activate adpro"
   ]
  },
  {
   "cell_type": "code",
   "execution_count": 5,
   "metadata": {},
   "outputs": [
    {
     "name": "stdout",
     "output_type": "stream",
     "text": [
      "Requirement already satisfied: requests in c:\\users\\victo\\anaconda3\\lib\\site-packages (2.31.0)\n",
      "Requirement already satisfied: charset-normalizer<4,>=2 in c:\\users\\victo\\anaconda3\\lib\\site-packages (from requests) (2.0.4)\n",
      "Requirement already satisfied: idna<4,>=2.5 in c:\\users\\victo\\anaconda3\\lib\\site-packages (from requests) (3.4)\n",
      "Requirement already satisfied: urllib3<3,>=1.21.1 in c:\\users\\victo\\anaconda3\\lib\\site-packages (from requests) (2.0.7)\n",
      "Requirement already satisfied: certifi>=2017.4.17 in c:\\users\\victo\\anaconda3\\lib\\site-packages (from requests) (2024.2.2)\n"
     ]
    }
   ],
   "source": [
    "#!pip install requests"
   ]
  },
  {
   "cell_type": "code",
   "execution_count": 8,
   "metadata": {},
   "outputs": [],
   "source": [
    "#!pip install seaborn\n",
    "#!pip install pandasai"
   ]
  },
  {
   "cell_type": "code",
   "execution_count": 1,
   "metadata": {},
   "outputs": [],
   "source": [
    "import os\n",
    "try:\n",
    "    os.environ['OPENAI_API_KEY']='sk-***REMOVED***'\n",
    "except:\n",
    "    print('Error setting API key')"
   ]
  },
  {
   "cell_type": "code",
   "execution_count": 2,
   "metadata": {},
   "outputs": [
    {
     "name": "stdout",
     "output_type": "stream",
     "text": [
      "Data downloaded and extracted successfully.\n",
      "   Aircraft Model Manufacturer             Max Speed  \\\n",
      "0  Boeing 737-300       Boeing  511 knots (935 km/h)   \n",
      "\n",
      "                             Range Passengers Crew       First Flight  \\\n",
      "0  2,400 nautical miles (4,400 km)        149    2  February 24, 1984   \n",
      "\n",
      "   Production Status                          Variants        Role  \n",
      "0  Out of production  [Boeing 737-400, Boeing 737-500]  Commercial  \n"
     ]
    }
   ],
   "source": [
    "import sys\n",
    "sys.path.append(\"../functions\")\n",
    "import flights"
   ]
  },
  {
   "cell_type": "code",
   "execution_count": 3,
   "metadata": {},
   "outputs": [
    {
     "name": "stdout",
     "output_type": "stream",
     "text": [
      "Data downloaded and extracted successfully.\n"
     ]
    }
   ],
   "source": [
    "flight_data = flights.FlightData()"
   ]
  },
  {
   "cell_type": "code",
   "execution_count": 4,
   "metadata": {},
   "outputs": [
    {
     "data": {
      "text/html": [
       "<div>\n",
       "<style scoped>\n",
       "    .dataframe tbody tr th:only-of-type {\n",
       "        vertical-align: middle;\n",
       "    }\n",
       "\n",
       "    .dataframe tbody tr th {\n",
       "        vertical-align: top;\n",
       "    }\n",
       "\n",
       "    .dataframe thead th {\n",
       "        text-align: right;\n",
       "    }\n",
       "</style>\n",
       "<table border=\"1\" class=\"dataframe\">\n",
       "  <thead>\n",
       "    <tr style=\"text-align: right;\">\n",
       "      <th></th>\n",
       "      <th>Airport Code</th>\n",
       "      <th>Location</th>\n",
       "      <th>Size</th>\n",
       "      <th>Facilities</th>\n",
       "      <th>Traffic</th>\n",
       "      <th>Runway Length</th>\n",
       "      <th>Airlines Served</th>\n",
       "      <th>History</th>\n",
       "      <th>Services</th>\n",
       "      <th>Safety Records</th>\n",
       "    </tr>\n",
       "  </thead>\n",
       "  <tbody>\n",
       "    <tr>\n",
       "      <th>0</th>\n",
       "      <td>LAX</td>\n",
       "      <td>34.0522° N, 118.2437° W</td>\n",
       "      <td>3,500 acres</td>\n",
       "      <td>9 terminals, multiple parking options, lounges</td>\n",
       "      <td>88 million passengers annually</td>\n",
       "      <td>12,923 feet</td>\n",
       "      <td>Over 70 airlines</td>\n",
       "      <td>Opened in 1930, known for its iconic Theme Bui...</td>\n",
       "      <td>Ground transportation, dining options, duty-fr...</td>\n",
       "      <td>High safety and security measures in place</td>\n",
       "    </tr>\n",
       "  </tbody>\n",
       "</table>\n",
       "</div>"
      ],
      "text/plain": [
       "  Airport Code                 Location         Size  \\\n",
       "0          LAX  34.0522° N, 118.2437° W  3,500 acres   \n",
       "\n",
       "                                       Facilities  \\\n",
       "0  9 terminals, multiple parking options, lounges   \n",
       "\n",
       "                          Traffic Runway Length   Airlines Served  \\\n",
       "0  88 million passengers annually   12,923 feet  Over 70 airlines   \n",
       "\n",
       "                                             History  \\\n",
       "0  Opened in 1930, known for its iconic Theme Bui...   \n",
       "\n",
       "                                            Services  \\\n",
       "0  Ground transportation, dining options, duty-fr...   \n",
       "\n",
       "                               Safety Records  \n",
       "0  High safety and security measures in place  "
      ]
     },
     "execution_count": 4,
     "metadata": {},
     "output_type": "execute_result"
    }
   ],
   "source": [
    "flight_data.airport_info('LAX')"
   ]
  },
  {
   "cell_type": "code",
   "execution_count": 5,
   "metadata": {},
   "outputs": [
    {
     "data": {
      "text/html": [
       "<div>\n",
       "<style scoped>\n",
       "    .dataframe tbody tr th:only-of-type {\n",
       "        vertical-align: middle;\n",
       "    }\n",
       "\n",
       "    .dataframe tbody tr th {\n",
       "        vertical-align: top;\n",
       "    }\n",
       "\n",
       "    .dataframe thead th {\n",
       "        text-align: right;\n",
       "    }\n",
       "</style>\n",
       "<table border=\"1\" class=\"dataframe\">\n",
       "  <thead>\n",
       "    <tr style=\"text-align: right;\">\n",
       "      <th></th>\n",
       "      <th>Aircraft Model</th>\n",
       "      <th>Manufacturer</th>\n",
       "      <th>Max Speed</th>\n",
       "      <th>Range</th>\n",
       "      <th>Passengers</th>\n",
       "      <th>Crew</th>\n",
       "      <th>First Flight</th>\n",
       "      <th>Production Status</th>\n",
       "      <th>Variants</th>\n",
       "      <th>Role</th>\n",
       "    </tr>\n",
       "  </thead>\n",
       "  <tbody>\n",
       "    <tr>\n",
       "      <th>0</th>\n",
       "      <td>Aerospatiale (Nord) 262</td>\n",
       "      <td>Aerospatiale (Nord)</td>\n",
       "      <td>500 km/h</td>\n",
       "      <td>1,500 km</td>\n",
       "      <td>30</td>\n",
       "      <td>2</td>\n",
       "      <td>1947</td>\n",
       "      <td>Out of production</td>\n",
       "      <td>[Nord 262A, Nord 262B]</td>\n",
       "      <td>Commercial</td>\n",
       "    </tr>\n",
       "  </tbody>\n",
       "</table>\n",
       "</div>"
      ],
      "text/plain": [
       "            Aircraft Model         Manufacturer Max Speed     Range  \\\n",
       "0  Aerospatiale (Nord) 262  Aerospatiale (Nord)  500 km/h  1,500 km   \n",
       "\n",
       "  Passengers Crew First Flight  Production Status                Variants  \\\n",
       "0         30    2         1947  Out of production  [Nord 262A, Nord 262B]   \n",
       "\n",
       "         Role  \n",
       "0  Commercial  "
      ]
     },
     "execution_count": 5,
     "metadata": {},
     "output_type": "execute_result"
    }
   ],
   "source": [
    "flight_data.aircraft_info('Aerospatiale (Nord) 262')"
   ]
  },
  {
   "cell_type": "code",
   "execution_count": null,
   "metadata": {},
   "outputs": [],
   "source": []
  }
 ],
 "metadata": {
  "kernelspec": {
   "display_name": "adpro",
   "language": "python",
   "name": "adpro"
  },
  "language_info": {
   "codemirror_mode": {
    "name": "ipython",
    "version": 3
   },
   "file_extension": ".py",
   "mimetype": "text/x-python",
   "name": "python",
   "nbconvert_exporter": "python",
   "pygments_lexer": "ipython3",
   "version": "3.11.8"
  }
 },
 "nbformat": 4,
 "nbformat_minor": 2
}
