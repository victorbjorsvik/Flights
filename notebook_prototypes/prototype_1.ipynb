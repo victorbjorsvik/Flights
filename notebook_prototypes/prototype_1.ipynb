{
 "cells": [
  {
   "cell_type": "code",
   "execution_count": 2,
   "metadata": {},
   "outputs": [
    {
     "name": "stderr",
     "output_type": "stream",
     "text": [
      "Matplotlib is building the font cache; this may take a moment.\n"
     ]
    }
   ],
   "source": [
    "import pandas as pd\n",
    "import numpy as np\n",
    "import matplotlib.pyplot as plt"
   ]
  },
  {
   "cell_type": "code",
   "execution_count": 6,
   "metadata": {},
   "outputs": [],
   "source": [
    "lines_df = pd.read_csv(\"../flight_data/airlines.csv\")\n",
    "planes_df = pd.read_csv(\"../flight_data/airplanes.csv\")\n",
    "ports_df = pd.read_csv(\"../flight_data/airports.csv\")\n",
    "routes_df = pd.read_csv(\"../flight_data/routes.csv\")"
   ]
  },
  {
   "cell_type": "code",
   "execution_count": 4,
   "metadata": {},
   "outputs": [
    {
     "name": "stdout",
     "output_type": "stream",
     "text": [
      "      index  Airline ID                                          Name  \\\n",
      "0         0          -1                                       Unknown   \n",
      "1         1           1                                Private flight   \n",
      "2         2           2                                   135 Airways   \n",
      "3         3           3                                 1Time Airline   \n",
      "4         4           4  2 Sqn No 1 Elementary Flying Training School   \n",
      "...     ...         ...                                           ...   \n",
      "6157   6157       21248                                   GX Airlines   \n",
      "6158   6158       21251                        Lynx Aviation (L3/SSX)   \n",
      "6159   6159       21268                               Jetgo Australia   \n",
      "6160   6160       21270                                  Air Carnival   \n",
      "6161   6161       21317                                 Svyaz Rossiya   \n",
      "\n",
      "                  Alias IATA ICAO         Callsign         Country Active  \n",
      "0                    \\N    -  NaN               \\N              \\N      Y  \n",
      "1                    \\N    -  NaN              NaN             NaN      Y  \n",
      "2                    \\N  NaN  GNL          GENERAL   United States      N  \n",
      "3                    \\N   1T  RNX          NEXTIME    South Africa      Y  \n",
      "4                    \\N  NaN  WYT              NaN  United Kingdom      N  \n",
      "...                 ...  ...  ...              ...             ...    ...  \n",
      "6157                NaN  NaN  CBG            SPRAY           China      Y  \n",
      "6158                NaN  NaN  SSX           Shasta   United States      N  \n",
      "6159                NaN   JG   \\N              NaN       Australia      Y  \n",
      "6160                NaN   2S   \\N              NaN           India      Y  \n",
      "6161  Russian Commuter    7R  SJM  RussianConnecty          Russia      Y  \n",
      "\n",
      "[6162 rows x 9 columns]\n"
     ]
    }
   ],
   "source": []
  },
  {
   "cell_type": "code",
   "execution_count": 2,
   "metadata": {},
   "outputs": [
    {
     "name": "stdout",
     "output_type": "stream",
     "text": [
      "hello\n"
     ]
    }
   ],
   "source": [
    "print(\"hello\")"
   ]
  }
 ],
 "metadata": {
  "kernelspec": {
   "display_name": "Python 3",
   "language": "python",
   "name": "python3"
  },
  "language_info": {
   "codemirror_mode": {
    "name": "ipython",
    "version": 3
   },
   "file_extension": ".py",
   "mimetype": "text/x-python",
   "name": "python",
   "nbconvert_exporter": "python",
   "pygments_lexer": "ipython3",
   "version": "3.12.2"
  }
 },
 "nbformat": 4,
 "nbformat_minor": 2
}
