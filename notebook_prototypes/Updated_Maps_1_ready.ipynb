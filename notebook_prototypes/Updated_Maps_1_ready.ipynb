{
 "cells": [
  {
   "cell_type": "code",
   "execution_count": 10,
   "metadata": {},
   "outputs": [
    {
     "name": "stdout",
     "output_type": "stream",
     "text": [
      "Requirement already satisfied: folium in /Applications/anaconda3/envs/adpro/lib/python3.11/site-packages (0.16.0)\n",
      "Requirement already satisfied: branca>=0.6.0 in /Applications/anaconda3/envs/adpro/lib/python3.11/site-packages (from folium) (0.7.1)\n",
      "Requirement already satisfied: jinja2>=2.9 in /Applications/anaconda3/envs/adpro/lib/python3.11/site-packages (from folium) (3.1.3)\n",
      "Requirement already satisfied: numpy in /Applications/anaconda3/envs/adpro/lib/python3.11/site-packages (from folium) (1.26.4)\n",
      "Requirement already satisfied: requests in /Applications/anaconda3/envs/adpro/lib/python3.11/site-packages (from folium) (2.31.0)\n",
      "Requirement already satisfied: xyzservices in /Applications/anaconda3/envs/adpro/lib/python3.11/site-packages (from folium) (2023.10.1)\n",
      "Requirement already satisfied: MarkupSafe>=2.0 in /Applications/anaconda3/envs/adpro/lib/python3.11/site-packages (from jinja2>=2.9->folium) (2.1.3)\n",
      "Requirement already satisfied: charset-normalizer<4,>=2 in /Applications/anaconda3/envs/adpro/lib/python3.11/site-packages (from requests->folium) (2.0.4)\n",
      "Requirement already satisfied: idna<4,>=2.5 in /Applications/anaconda3/envs/adpro/lib/python3.11/site-packages (from requests->folium) (3.4)\n",
      "Requirement already satisfied: urllib3<3,>=1.21.1 in /Applications/anaconda3/envs/adpro/lib/python3.11/site-packages (from requests->folium) (2.1.0)\n",
      "Requirement already satisfied: certifi>=2017.4.17 in /Applications/anaconda3/envs/adpro/lib/python3.11/site-packages (from requests->folium) (2024.2.2)\n"
     ]
    }
   ],
   "source": [
    "!pip install folium\n",
    "import folium"
   ]
  },
  {
   "cell_type": "code",
   "execution_count": 21,
   "metadata": {},
   "outputs": [],
   "source": [
    "#Read dataframes\n",
    "import pandas as pd\n",
    "airlines_df = pd.read_csv('/Users/hannapedersen/Documents/NOVA/T3/Advanced Programming/Assignment/flight_data/airlines.csv')\n",
    "airplanes_df = pd.read_csv('/Users/hannapedersen/Documents/NOVA/T3/Advanced Programming/Assignment/flight_data/airplanes.csv', on_bad_lines='skip')\n",
    "airports_df = pd.read_csv('/Users/hannapedersen/Documents/NOVA/T3/Advanced Programming/Assignment/flight_data/airports.csv', on_bad_lines='skip')\n",
    "routes_df =  pd.read_csv('/Users/hannapedersen/Documents/NOVA/T3/Advanced Programming/Assignment/flight_data/routes.csv', on_bad_lines='skip')\n"
   ]
  },
  {
   "cell_type": "code",
   "execution_count": 22,
   "metadata": {},
   "outputs": [],
   "source": [
    "\n",
    "def departing_flights_airport(self, airport, internal=False):\n",
    "    \"\"\"\n",
    "    Retrieve and plot departing flights from a given airport on a map, displaying each route uniquely.\n",
    "\n",
    "    Args:\n",
    "        airport (str): The IATA code of the airport from which departing flights are to be retrieved.\n",
    "        internal (bool, optional): If set to True, only internal flights (flights within the same country) are displayed. Defaults to False, which shows all departing flights.\n",
    "\n",
    "    Returns:\n",
    "        A Folium map object with plotted departing flights or None if no flights are found.\n",
    "\n",
    "    Description:\n",
    "        This function joins route data with airport information to retrieve detailed flight departures from the specified airport. It includes both the source and destination information, such as country and geographical coordinates (latitude and longitude).\n",
    "        \n",
    "        The function then filters the flights based on the specified airport code and whether the flight is internal. For internal flights, it further filters to include only those flights where the source and destination countries match.\n",
    "        \n",
    "        Unique departing flights are identified by ensuring no duplicate destination airports are plotted. This helps in visualizing each destination uniquely from the specified source airport.\n",
    "        \n",
    "        The method visualizes the flights on a map, marking the source airport in green and the destinations in red. Lines connecting the source and destination represent the flight routes. The map is centered around the source airport and adjusted for an appropriate zoom level to capture all routes effectively.\n",
    "        \n",
    "        If no flights are found, a message is printed, and the function returns None. Otherwise, it returns a Folium map object that can be displayed in Jupyter notebooks or saved as an HTML file for web viewing.\n",
    "    \"\"\"\n",
    "\n",
    "    # Join routes with airports to find Source and Destination information\n",
    "    airport_info_1 = self.routes_df.join(self.airports_df.set_index('IATA')[['Country', 'Latitude', 'Longitude']], on='Source airport', rsuffix='_source')\n",
    "    airport_info_1.rename(columns={'Country': 'Source Country', 'Latitude': 'Source Latitude', 'Longitude': 'Source Longitude'}, inplace=True)\n",
    "    airport_info_2 = airport_info_1.join(self.airports_df.set_index('IATA')[['Country', 'Latitude', 'Longitude']], on='Destination airport', rsuffix='_dest')\n",
    "    airport_info_2.rename(columns={'Country_dest': 'Destination Country', 'Latitude': 'Destination Latitude', 'Longitude': 'Destination Longitude'}, inplace=True)\n",
    "    \n",
    "    # Filter flights based on the given source airport\n",
    "    source_flights = airport_info_2[airport_info_2['Source airport'] == airport]\n",
    "    source_flights_unique = source_flights.drop_duplicates(subset=['Destination airport'])\n",
    "\n",
    "\n",
    "    if internal:\n",
    "        # Filter for internal flights (destination in the same country)\n",
    "        source_flights_unique = source_flights_unique[source_flights_unique['Source Country'] == source_flights_unique['Destination Country']]\n",
    "        print(f\"Internal flights from {airport} to destinations in the same country:\")\n",
    "    else:\n",
    "        print(f\"All flights from {airport}:\")\n",
    "\n",
    "    # Check if there are any flights to display\n",
    "    if not source_flights_unique.empty:\n",
    "        # Create a base map centered around the source airport\n",
    "        m = folium.Map(location=[source_flights_unique.iloc[0]['Source Latitude'], source_flights_unique.iloc[0]['Source Longitude']], zoom_start=5)\n",
    "            \n",
    "        # Plot each route\n",
    "        for idx, row in source_flights_unique.iterrows():\n",
    "            source = [row['Source Latitude'], row['Source Longitude']]\n",
    "            destination = [row['Destination Latitude'], row['Destination Longitude']]\n",
    "            folium.Marker(source, popup=row['Source airport'], icon=folium.Icon(color=\"green\")).add_to(m)\n",
    "            folium.Marker(destination, popup=row['Destination airport'], icon=folium.Icon(color=\"red\")).add_to(m)\n",
    "            folium.PolyLine([source, destination], color=\"blue\", weight=2.5, opacity=1).add_to(m)\n",
    "            \n",
    "        # Show the map\n",
    "        return m\n",
    "    else:\n",
    "        print(f\"No flights found from {airport}.\")\n",
    "        return None\n"
   ]
  },
  {
   "cell_type": "code",
   "execution_count": 23,
   "metadata": {},
   "outputs": [
    {
     "ename": "AttributeError",
     "evalue": "'str' object has no attribute 'routes_df'",
     "output_type": "error",
     "traceback": [
      "\u001b[0;31m---------------------------------------------------------------------------\u001b[0m",
      "\u001b[0;31mAttributeError\u001b[0m                            Traceback (most recent call last)",
      "Cell \u001b[0;32mIn[23], line 1\u001b[0m\n\u001b[0;32m----> 1\u001b[0m departing_flights_airport(\u001b[38;5;124m'\u001b[39m\u001b[38;5;124mATL\u001b[39m\u001b[38;5;124m'\u001b[39m, \u001b[38;5;124m'\u001b[39m\u001b[38;5;124mATL\u001b[39m\u001b[38;5;124m'\u001b[39m)\n",
      "Cell \u001b[0;32mIn[22], line 25\u001b[0m, in \u001b[0;36mdeparting_flights_airport\u001b[0;34m(self, airport, internal)\u001b[0m\n\u001b[1;32m      2\u001b[0m \u001b[38;5;250m\u001b[39m\u001b[38;5;124;03m\"\"\"\u001b[39;00m\n\u001b[1;32m      3\u001b[0m \u001b[38;5;124;03mRetrieve and plot departing flights from a given airport on a map, displaying each route uniquely.\u001b[39;00m\n\u001b[1;32m      4\u001b[0m \n\u001b[0;32m   (...)\u001b[0m\n\u001b[1;32m     21\u001b[0m \u001b[38;5;124;03m    If no flights are found, a message is printed, and the function returns None. Otherwise, it returns a Folium map object that can be displayed in Jupyter notebooks or saved as an HTML file for web viewing.\u001b[39;00m\n\u001b[1;32m     22\u001b[0m \u001b[38;5;124;03m\"\"\"\u001b[39;00m\n\u001b[1;32m     24\u001b[0m \u001b[38;5;66;03m# Join routes with airports to find Source and Destination information\u001b[39;00m\n\u001b[0;32m---> 25\u001b[0m airport_info_1 \u001b[38;5;241m=\u001b[39m \u001b[38;5;28mself\u001b[39m\u001b[38;5;241m.\u001b[39mroutes_df\u001b[38;5;241m.\u001b[39mjoin(\u001b[38;5;28mself\u001b[39m\u001b[38;5;241m.\u001b[39mairports_df\u001b[38;5;241m.\u001b[39mset_index(\u001b[38;5;124m'\u001b[39m\u001b[38;5;124mIATA\u001b[39m\u001b[38;5;124m'\u001b[39m)[[\u001b[38;5;124m'\u001b[39m\u001b[38;5;124mCountry\u001b[39m\u001b[38;5;124m'\u001b[39m, \u001b[38;5;124m'\u001b[39m\u001b[38;5;124mLatitude\u001b[39m\u001b[38;5;124m'\u001b[39m, \u001b[38;5;124m'\u001b[39m\u001b[38;5;124mLongitude\u001b[39m\u001b[38;5;124m'\u001b[39m]], on\u001b[38;5;241m=\u001b[39m\u001b[38;5;124m'\u001b[39m\u001b[38;5;124mSource airport\u001b[39m\u001b[38;5;124m'\u001b[39m, rsuffix\u001b[38;5;241m=\u001b[39m\u001b[38;5;124m'\u001b[39m\u001b[38;5;124m_source\u001b[39m\u001b[38;5;124m'\u001b[39m)\n\u001b[1;32m     26\u001b[0m airport_info_1\u001b[38;5;241m.\u001b[39mrename(columns\u001b[38;5;241m=\u001b[39m{\u001b[38;5;124m'\u001b[39m\u001b[38;5;124mCountry\u001b[39m\u001b[38;5;124m'\u001b[39m: \u001b[38;5;124m'\u001b[39m\u001b[38;5;124mSource Country\u001b[39m\u001b[38;5;124m'\u001b[39m, \u001b[38;5;124m'\u001b[39m\u001b[38;5;124mLatitude\u001b[39m\u001b[38;5;124m'\u001b[39m: \u001b[38;5;124m'\u001b[39m\u001b[38;5;124mSource Latitude\u001b[39m\u001b[38;5;124m'\u001b[39m, \u001b[38;5;124m'\u001b[39m\u001b[38;5;124mLongitude\u001b[39m\u001b[38;5;124m'\u001b[39m: \u001b[38;5;124m'\u001b[39m\u001b[38;5;124mSource Longitude\u001b[39m\u001b[38;5;124m'\u001b[39m}, inplace\u001b[38;5;241m=\u001b[39m\u001b[38;5;28;01mTrue\u001b[39;00m)\n\u001b[1;32m     27\u001b[0m airport_info_2 \u001b[38;5;241m=\u001b[39m airport_info_1\u001b[38;5;241m.\u001b[39mjoin(\u001b[38;5;28mself\u001b[39m\u001b[38;5;241m.\u001b[39mairports_df\u001b[38;5;241m.\u001b[39mset_index(\u001b[38;5;124m'\u001b[39m\u001b[38;5;124mIATA\u001b[39m\u001b[38;5;124m'\u001b[39m)[[\u001b[38;5;124m'\u001b[39m\u001b[38;5;124mCountry\u001b[39m\u001b[38;5;124m'\u001b[39m, \u001b[38;5;124m'\u001b[39m\u001b[38;5;124mLatitude\u001b[39m\u001b[38;5;124m'\u001b[39m, \u001b[38;5;124m'\u001b[39m\u001b[38;5;124mLongitude\u001b[39m\u001b[38;5;124m'\u001b[39m]], on\u001b[38;5;241m=\u001b[39m\u001b[38;5;124m'\u001b[39m\u001b[38;5;124mDestination airport\u001b[39m\u001b[38;5;124m'\u001b[39m, rsuffix\u001b[38;5;241m=\u001b[39m\u001b[38;5;124m'\u001b[39m\u001b[38;5;124m_dest\u001b[39m\u001b[38;5;124m'\u001b[39m)\n",
      "\u001b[0;31mAttributeError\u001b[0m: 'str' object has no attribute 'routes_df'"
     ]
    }
   ],
   "source": [
    "departing_flights_airport('ATL', 'ATL')"
   ]
  },
  {
   "cell_type": "code",
   "execution_count": null,
   "metadata": {},
   "outputs": [],
   "source": []
  }
 ],
 "metadata": {
  "kernelspec": {
   "display_name": "adpro",
   "language": "python",
   "name": "python3"
  },
  "language_info": {
   "codemirror_mode": {
    "name": "ipython",
    "version": 3
   },
   "file_extension": ".py",
   "mimetype": "text/x-python",
   "name": "python",
   "nbconvert_exporter": "python",
   "pygments_lexer": "ipython3",
   "version": "3.11.7"
  }
 },
 "nbformat": 4,
 "nbformat_minor": 2
}
